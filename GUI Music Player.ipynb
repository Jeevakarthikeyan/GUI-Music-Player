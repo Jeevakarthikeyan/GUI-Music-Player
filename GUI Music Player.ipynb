{
 "cells": [
  {
   "cell_type": "code",
   "execution_count": 1,
   "metadata": {},
   "outputs": [
    {
     "name": "stdout",
     "output_type": "stream",
     "text": [
      "pygame 2.0.1 (SDL 2.0.14, Python 3.8.5)\n",
      "Hello from the pygame community. https://www.pygame.org/contribute.html\n"
     ]
    }
   ],
   "source": [
    "import os\n",
    "import tkinter as tkr\n",
    "from tkinter.filedialog import askdirectory\n",
    "import pygame\n",
    "\n",
    "musicplayer = tkr.Tk() #method and to create window and interface\n",
    "musicplayer.title(\"Music Player\")\n",
    "\n",
    "#Setting dimension\n",
    "musicplayer.geometry(\"450x350\")\n",
    "\n",
    "#asking music for directory\n",
    "directory = askdirectory()\n",
    "\n",
    "#setting music directory to the current working directory\n",
    "os.chdir(directory)\n",
    "\n",
    "#creating our songlist\n",
    "#os.listdir() to return the list containing a names of entries in the directory given by the path\n",
    "songlist = os.listdir()\n",
    "\n",
    "\n",
    "#creating our playlist\n",
    "playlist = tkr.Listbox(musicplayer,font = \"cambria 14 bold\" ,bg=\"cyan2\",selectmode=tkr.SINGLE)\n",
    "\n",
    "#adding songs from songlist to playlist\n",
    "for item in songlist:\n",
    "    pos = 0\n",
    "    playlist.insert(pos,item)\n",
    "    pos = pos+1\n",
    "    \n",
    "#Initializing modules   \n",
    "pygame.init()\n",
    "pygame.mixer.init()\n",
    "\n",
    "#this function is play button\n",
    "def play():\n",
    "    pygame.mixer.music.load(playlist.get(tkr.ACTIVE))\n",
    "    var = set(playlist.get(tkr.ACTIVE))\n",
    "    pygame.mixer.music.play()\n",
    "    \n",
    "#this function is stop button\n",
    "def ExitMusicPlayer():\n",
    "    pygame.mixer.music.stop()\n",
    "\n",
    "#this function is pause button\n",
    "def pause():\n",
    "    pygame.mixer.music.pause()\n",
    "    \n",
    "#this function is resume button\n",
    "def resume():\n",
    "    pygame.mixer.music.unpause()\n",
    "    \n",
    "#creating buttons:\n",
    "\n",
    "Button_play = tkr.Button(musicplayer,text=\"Play Music\",height=3,width=5,fg=\"black\",bg=\"lime green\",font=\"cambria 14 bold\",command=play)\n",
    "Button_stop = tkr.Button(musicplayer,text=\"Stop Music\",height=3,width=5,fg=\"black\",bg=\"red\",font=\"cambria 14 bold\",command=ExitMusicPlayer)\n",
    "Button_pause = tkr.Button(musicplayer,text=\"Pause Music\",height=3,width=5,fg=\"black\",bg=\"yellow\",font=\"cambria 14 bold\",command=pause)\n",
    "Button_resume = tkr.Button(musicplayer,text=\"resume Music\",height=3,width=5,fg=\"black\",bg=\"orange\",font=\"cambria 14 bold\",command=resume)\n",
    "\n",
    "Button_play.pack(fill=\"x\")\n",
    "Button_stop.pack(fill=\"x\")\n",
    "Button_pause.pack(fill=\"x\")\n",
    "Button_resume.pack(fill=\"x\")\n",
    "\n",
    "playlist.pack(fill=\"both\",expand=\"yes\")\n",
    "\n",
    "var = tkr.StringVar()\n",
    "songtitle = tkr.Label(musicplayer,font=\"cambria 12 bold\",textvariable=var)\n",
    "songtitle.pack()\n",
    "\n",
    "\n",
    "musicplayer.mainloop()"
   ]
  },
  {
   "cell_type": "code",
   "execution_count": null,
   "metadata": {},
   "outputs": [],
   "source": []
  },
  {
   "cell_type": "code",
   "execution_count": null,
   "metadata": {},
   "outputs": [],
   "source": []
  },
  {
   "cell_type": "code",
   "execution_count": 3,
   "metadata": {},
   "outputs": [],
   "source": []
  },
  {
   "cell_type": "code",
   "execution_count": null,
   "metadata": {},
   "outputs": [],
   "source": []
  },
  {
   "cell_type": "code",
   "execution_count": null,
   "metadata": {},
   "outputs": [],
   "source": []
  }
 ],
 "metadata": {
  "kernelspec": {
   "display_name": "Python 3",
   "language": "python",
   "name": "python3"
  },
  "language_info": {
   "codemirror_mode": {
    "name": "ipython",
    "version": 3
   },
   "file_extension": ".py",
   "mimetype": "text/x-python",
   "name": "python",
   "nbconvert_exporter": "python",
   "pygments_lexer": "ipython3",
   "version": "3.8.5"
  }
 },
 "nbformat": 4,
 "nbformat_minor": 4
}
